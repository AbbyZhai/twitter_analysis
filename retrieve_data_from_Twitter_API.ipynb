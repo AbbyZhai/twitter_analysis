{
 "cells": [
  {
   "cell_type": "markdown",
   "metadata": {},
   "source": [
    "# Retrieve Data from Twitter API"
   ]
  },
  {
   "cell_type": "markdown",
   "metadata": {},
   "source": [
    "## Import necessary libraries"
   ]
  },
  {
   "cell_type": "code",
   "execution_count": 1,
   "metadata": {},
   "outputs": [],
   "source": [
    "import tweepy\n",
    "import json\n",
    "import pandas as pd\n",
    "import numpy as np\n",
    "import time\n",
    "\n",
    "import twitter_credentials"
   ]
  },
  {
   "cell_type": "markdown",
   "metadata": {},
   "source": [
    "## Use authentication credential to connect Twitter API"
   ]
  },
  {
   "cell_type": "code",
   "execution_count": 2,
   "metadata": {},
   "outputs": [],
   "source": [
    "def twitter_api_authentication():\n",
    "    \"\"\" authenticate with crediential and connect to Twitter API \"\"\"\n",
    "    \n",
    "    auth = tweepy.OAuthHandler(twitter_credentials.CONSUMER_KEY, twitter_credentials.CONSUMER_SECRET)\n",
    "    auth.set_access_token(twitter_credentials.ACCESS_TOKEN, twitter_credentials.ACCESS_TOKEN_SECRET)\n",
    "    api = tweepy.API(auth)\n",
    "    \n",
    "    return api"
   ]
  },
  {
   "cell_type": "code",
   "execution_count": 3,
   "metadata": {},
   "outputs": [],
   "source": [
    "api = twitter_api_authentication()"
   ]
  },
  {
   "cell_type": "markdown",
   "metadata": {},
   "source": [
    "## Get the data from one tweet as an example\n"
   ]
  },
  {
   "cell_type": "code",
   "execution_count": 4,
   "metadata": {},
   "outputs": [
    {
     "name": "stdout",
     "output_type": "stream",
     "text": [
      "<class 'tweepy.models.ResultSet'>\n",
      "<class 'tweepy.models.Status'>\n"
     ]
    }
   ],
   "source": [
    "# get the latest tweet of Elon Musk using user_timeline\n",
    "\n",
    "# the scree_name is the name start at @, eg: @elonmusk\n",
    "tweet_list = api.user_timeline(screen_name = \"elonmusk\", count = 1, tweet_mode=\"extended\")\n",
    "print(type(tweet_list)) # return a ResultSet that cannot retrieve _json directly\n",
    "print(type(tweet_list[0])) # return a Status object that can retrieve _json data"
   ]
  },
  {
   "cell_type": "code",
   "execution_count": 5,
   "metadata": {},
   "outputs": [
    {
     "data": {
      "text/plain": [
       "[Status(_api=<tweepy.api.API object at 0x7fcf242f72e0>, _json={'created_at': 'Thu Mar 31 18:07:52 +0000 2022', 'id': 1509593334192517126, 'id_str': '1509593334192517126', 'full_text': '@DriveTeslaca Yes, but we take a very cautious approach to safety. As we confirm functionality on Canadian roads, the beta will expand.', 'truncated': False, 'display_text_range': [14, 135], 'entities': {'hashtags': [], 'symbols': [], 'user_mentions': [{'screen_name': 'DriveTeslaca', 'name': 'Drive Tesla 🇨🇦', 'id': 1169348503975317504, 'id_str': '1169348503975317504', 'indices': [0, 13]}], 'urls': []}, 'source': '<a href=\"http://twitter.com/download/iphone\" rel=\"nofollow\">Twitter for iPhone</a>', 'in_reply_to_status_id': 1509568826035224577, 'in_reply_to_status_id_str': '1509568826035224577', 'in_reply_to_user_id': 1169348503975317504, 'in_reply_to_user_id_str': '1169348503975317504', 'in_reply_to_screen_name': 'DriveTeslaca', 'user': {'id': 44196397, 'id_str': '44196397', 'name': 'Elon Musk', 'screen_name': 'elonmusk', 'location': '', 'description': '', 'url': None, 'entities': {'description': {'urls': []}}, 'protected': False, 'followers_count': 79787614, 'friends_count': 112, 'listed_count': 88284, 'created_at': 'Tue Jun 02 20:12:29 +0000 2009', 'favourites_count': 12632, 'utc_offset': None, 'time_zone': None, 'geo_enabled': False, 'verified': True, 'statuses_count': 17271, 'lang': None, 'contributors_enabled': False, 'is_translator': False, 'is_translation_enabled': False, 'profile_background_color': 'C0DEED', 'profile_background_image_url': 'http://abs.twimg.com/images/themes/theme1/bg.png', 'profile_background_image_url_https': 'https://abs.twimg.com/images/themes/theme1/bg.png', 'profile_background_tile': False, 'profile_image_url': 'http://pbs.twimg.com/profile_images/1503591435324563456/foUrqiEw_normal.jpg', 'profile_image_url_https': 'https://pbs.twimg.com/profile_images/1503591435324563456/foUrqiEw_normal.jpg', 'profile_banner_url': 'https://pbs.twimg.com/profile_banners/44196397/1576183471', 'profile_link_color': '0084B4', 'profile_sidebar_border_color': 'C0DEED', 'profile_sidebar_fill_color': 'DDEEF6', 'profile_text_color': '333333', 'profile_use_background_image': True, 'has_extended_profile': True, 'default_profile': False, 'default_profile_image': False, 'following': False, 'follow_request_sent': False, 'notifications': False, 'translator_type': 'none', 'withheld_in_countries': []}, 'geo': None, 'coordinates': None, 'place': None, 'contributors': None, 'is_quote_status': False, 'retweet_count': 98, 'favorite_count': 1215, 'favorited': False, 'retweeted': False, 'lang': 'en'}, created_at=datetime.datetime(2022, 3, 31, 18, 7, 52, tzinfo=datetime.timezone.utc), id=1509593334192517126, id_str='1509593334192517126', full_text='@DriveTeslaca Yes, but we take a very cautious approach to safety. As we confirm functionality on Canadian roads, the beta will expand.', truncated=False, display_text_range=[14, 135], entities={'hashtags': [], 'symbols': [], 'user_mentions': [{'screen_name': 'DriveTeslaca', 'name': 'Drive Tesla 🇨🇦', 'id': 1169348503975317504, 'id_str': '1169348503975317504', 'indices': [0, 13]}], 'urls': []}, source='Twitter for iPhone', source_url='http://twitter.com/download/iphone', in_reply_to_status_id=1509568826035224577, in_reply_to_status_id_str='1509568826035224577', in_reply_to_user_id=1169348503975317504, in_reply_to_user_id_str='1169348503975317504', in_reply_to_screen_name='DriveTeslaca', author=User(_api=<tweepy.api.API object at 0x7fcf242f72e0>, _json={'id': 44196397, 'id_str': '44196397', 'name': 'Elon Musk', 'screen_name': 'elonmusk', 'location': '', 'description': '', 'url': None, 'entities': {'description': {'urls': []}}, 'protected': False, 'followers_count': 79787614, 'friends_count': 112, 'listed_count': 88284, 'created_at': 'Tue Jun 02 20:12:29 +0000 2009', 'favourites_count': 12632, 'utc_offset': None, 'time_zone': None, 'geo_enabled': False, 'verified': True, 'statuses_count': 17271, 'lang': None, 'contributors_enabled': False, 'is_translator': False, 'is_translation_enabled': False, 'profile_background_color': 'C0DEED', 'profile_background_image_url': 'http://abs.twimg.com/images/themes/theme1/bg.png', 'profile_background_image_url_https': 'https://abs.twimg.com/images/themes/theme1/bg.png', 'profile_background_tile': False, 'profile_image_url': 'http://pbs.twimg.com/profile_images/1503591435324563456/foUrqiEw_normal.jpg', 'profile_image_url_https': 'https://pbs.twimg.com/profile_images/1503591435324563456/foUrqiEw_normal.jpg', 'profile_banner_url': 'https://pbs.twimg.com/profile_banners/44196397/1576183471', 'profile_link_color': '0084B4', 'profile_sidebar_border_color': 'C0DEED', 'profile_sidebar_fill_color': 'DDEEF6', 'profile_text_color': '333333', 'profile_use_background_image': True, 'has_extended_profile': True, 'default_profile': False, 'default_profile_image': False, 'following': False, 'follow_request_sent': False, 'notifications': False, 'translator_type': 'none', 'withheld_in_countries': []}, id=44196397, id_str='44196397', name='Elon Musk', screen_name='elonmusk', location='', description='', url=None, entities={'description': {'urls': []}}, protected=False, followers_count=79787614, friends_count=112, listed_count=88284, created_at=datetime.datetime(2009, 6, 2, 20, 12, 29, tzinfo=datetime.timezone.utc), favourites_count=12632, utc_offset=None, time_zone=None, geo_enabled=False, verified=True, statuses_count=17271, lang=None, contributors_enabled=False, is_translator=False, is_translation_enabled=False, profile_background_color='C0DEED', profile_background_image_url='http://abs.twimg.com/images/themes/theme1/bg.png', profile_background_image_url_https='https://abs.twimg.com/images/themes/theme1/bg.png', profile_background_tile=False, profile_image_url='http://pbs.twimg.com/profile_images/1503591435324563456/foUrqiEw_normal.jpg', profile_image_url_https='https://pbs.twimg.com/profile_images/1503591435324563456/foUrqiEw_normal.jpg', profile_banner_url='https://pbs.twimg.com/profile_banners/44196397/1576183471', profile_link_color='0084B4', profile_sidebar_border_color='C0DEED', profile_sidebar_fill_color='DDEEF6', profile_text_color='333333', profile_use_background_image=True, has_extended_profile=True, default_profile=False, default_profile_image=False, following=False, follow_request_sent=False, notifications=False, translator_type='none', withheld_in_countries=[]), user=User(_api=<tweepy.api.API object at 0x7fcf242f72e0>, _json={'id': 44196397, 'id_str': '44196397', 'name': 'Elon Musk', 'screen_name': 'elonmusk', 'location': '', 'description': '', 'url': None, 'entities': {'description': {'urls': []}}, 'protected': False, 'followers_count': 79787614, 'friends_count': 112, 'listed_count': 88284, 'created_at': 'Tue Jun 02 20:12:29 +0000 2009', 'favourites_count': 12632, 'utc_offset': None, 'time_zone': None, 'geo_enabled': False, 'verified': True, 'statuses_count': 17271, 'lang': None, 'contributors_enabled': False, 'is_translator': False, 'is_translation_enabled': False, 'profile_background_color': 'C0DEED', 'profile_background_image_url': 'http://abs.twimg.com/images/themes/theme1/bg.png', 'profile_background_image_url_https': 'https://abs.twimg.com/images/themes/theme1/bg.png', 'profile_background_tile': False, 'profile_image_url': 'http://pbs.twimg.com/profile_images/1503591435324563456/foUrqiEw_normal.jpg', 'profile_image_url_https': 'https://pbs.twimg.com/profile_images/1503591435324563456/foUrqiEw_normal.jpg', 'profile_banner_url': 'https://pbs.twimg.com/profile_banners/44196397/1576183471', 'profile_link_color': '0084B4', 'profile_sidebar_border_color': 'C0DEED', 'profile_sidebar_fill_color': 'DDEEF6', 'profile_text_color': '333333', 'profile_use_background_image': True, 'has_extended_profile': True, 'default_profile': False, 'default_profile_image': False, 'following': False, 'follow_request_sent': False, 'notifications': False, 'translator_type': 'none', 'withheld_in_countries': []}, id=44196397, id_str='44196397', name='Elon Musk', screen_name='elonmusk', location='', description='', url=None, entities={'description': {'urls': []}}, protected=False, followers_count=79787614, friends_count=112, listed_count=88284, created_at=datetime.datetime(2009, 6, 2, 20, 12, 29, tzinfo=datetime.timezone.utc), favourites_count=12632, utc_offset=None, time_zone=None, geo_enabled=False, verified=True, statuses_count=17271, lang=None, contributors_enabled=False, is_translator=False, is_translation_enabled=False, profile_background_color='C0DEED', profile_background_image_url='http://abs.twimg.com/images/themes/theme1/bg.png', profile_background_image_url_https='https://abs.twimg.com/images/themes/theme1/bg.png', profile_background_tile=False, profile_image_url='http://pbs.twimg.com/profile_images/1503591435324563456/foUrqiEw_normal.jpg', profile_image_url_https='https://pbs.twimg.com/profile_images/1503591435324563456/foUrqiEw_normal.jpg', profile_banner_url='https://pbs.twimg.com/profile_banners/44196397/1576183471', profile_link_color='0084B4', profile_sidebar_border_color='C0DEED', profile_sidebar_fill_color='DDEEF6', profile_text_color='333333', profile_use_background_image=True, has_extended_profile=True, default_profile=False, default_profile_image=False, following=False, follow_request_sent=False, notifications=False, translator_type='none', withheld_in_countries=[]), geo=None, coordinates=None, place=None, contributors=None, is_quote_status=False, retweet_count=98, favorite_count=1215, favorited=False, retweeted=False, lang='en')]"
      ]
     },
     "execution_count": 5,
     "metadata": {},
     "output_type": "execute_result"
    }
   ],
   "source": [
    "# to see what's in it\n",
    "tweet_list"
   ]
  },
  {
   "cell_type": "code",
   "execution_count": 6,
   "metadata": {},
   "outputs": [
    {
     "data": {
      "text/plain": [
       "dict_keys(['created_at', 'id', 'id_str', 'full_text', 'truncated', 'display_text_range', 'entities', 'source', 'in_reply_to_status_id', 'in_reply_to_status_id_str', 'in_reply_to_user_id', 'in_reply_to_user_id_str', 'in_reply_to_screen_name', 'user', 'geo', 'coordinates', 'place', 'contributors', 'is_quote_status', 'retweet_count', 'favorite_count', 'favorited', 'retweeted', 'lang'])"
      ]
     },
     "execution_count": 6,
     "metadata": {},
     "output_type": "execute_result"
    }
   ],
   "source": [
    "# to see all the keys in the json dictionary\n",
    "tweet_list[0]._json.keys()"
   ]
  },
  {
   "cell_type": "code",
   "execution_count": 7,
   "metadata": {},
   "outputs": [
    {
     "data": {
      "text/plain": [
       "'@DriveTeslaca Yes, but we take a very cautious approach to safety. As we confirm functionality on Canadian roads, the beta will expand.'"
      ]
     },
     "execution_count": 7,
     "metadata": {},
     "output_type": "execute_result"
    }
   ],
   "source": [
    "# retrieve the latest tweets \n",
    "tweet_list[0]._json['full_text']"
   ]
  },
  {
   "cell_type": "code",
   "execution_count": 8,
   "metadata": {},
   "outputs": [
    {
     "data": {
      "text/plain": [
       "datetime.datetime(2022, 3, 31, 18, 7, 52, tzinfo=datetime.timezone.utc)"
      ]
     },
     "execution_count": 8,
     "metadata": {},
     "output_type": "execute_result"
    }
   ],
   "source": [
    "# retrieve the created time of the tweet\n",
    "tweet_list[0].created_at"
   ]
  },
  {
   "cell_type": "markdown",
   "metadata": {},
   "source": [
    "## Retrieve tweets data"
   ]
  },
  {
   "cell_type": "code",
   "execution_count": 9,
   "metadata": {},
   "outputs": [],
   "source": [
    "# more API calls can be found in tweepy, https://docs.tweepy.org/en/latest/api.html\n",
    "\n",
    "# get user timeline tweets\n",
    "def get_user_timeline_tweets(user_handle, num_tweets):\n",
    "    tweets = []\n",
    "    for tweet in tweepy.Cursor(api.user_timeline, screen_name = user_handle, tweet_mode = 'extended').items(num_tweets):\n",
    "        tweets.append(tweet)\n",
    "        \n",
    "    return tweets\n",
    "\n",
    "# get followers\n",
    "def get_followers(user_handle, num_tweets):\n",
    "    followers = []\n",
    "    for follower in tweepy.Cursor(api.get_followers, screen_name = user_handle).items(num_tweets):\n",
    "        followers.append(follower)\n",
    "    \n",
    "    return followers"
   ]
  },
  {
   "cell_type": "code",
   "execution_count": 10,
   "metadata": {},
   "outputs": [
    {
     "name": "stdout",
     "output_type": "stream",
     "text": [
      "3\n"
     ]
    }
   ],
   "source": [
    "user_handle = 'elonmusk'\n",
    "num_tweets = 3\n",
    "tweets = get_user_timeline_tweets(user_handle, num_tweets)\n",
    "print(len(tweets))"
   ]
  },
  {
   "cell_type": "markdown",
   "metadata": {},
   "source": [
    "## Retrieve followers tweets data with rate limit handled"
   ]
  },
  {
   "cell_type": "code",
   "execution_count": 13,
   "metadata": {},
   "outputs": [],
   "source": [
    "# get followers\n",
    "def get_followers(user_handle, num_tweets):\n",
    "    \n",
    "    def limit_handled(cursor):\n",
    "        \"\"\"\n",
    "        Handle twitter rate limits.\n",
    "        If the rate limit is reached, print the error message and exit the procedure.\n",
    "        Print a short summary of the total number of tweets retrieved and time spent.\n",
    "        \"\"\"\n",
    "        n=0\n",
    "        while True:\n",
    "            print(\".\", end=\"\")\n",
    "            try:\n",
    "                yield cursor.next()\n",
    "                n += 1\n",
    "            except Exception as e:\n",
    "                if tweepy.TooManyRequests:  #if TRUE this means we hit a rate limit error\n",
    "                    print(f\"Reached rate limits after {n} iterations. Please wait 15 minutes for the next try.\")   \n",
    "                    print(f'Error message: {e}')\n",
    "                else:\n",
    "                    print(\"Some unknown reason occured, HEEEEELP!\")\n",
    "                break\n",
    "        return None\n",
    "            \n",
    "    followers = []\n",
    "  \n",
    "    for follower in limit_handled(tweepy.Cursor(api.get_followers, screen_name = user_handle, tweet_mode = 'extended').items(num_tweets)):\n",
    "        followers.append(follower)\n",
    "    \n",
    "    return followers"
   ]
  },
  {
   "cell_type": "code",
   "execution_count": 14,
   "metadata": {
    "scrolled": true
   },
   "outputs": [
    {
     "name": "stdout",
     "output_type": "stream",
     "text": [
      ".Reached rate limits after 0 iterations. Please wait 15 minutes for the next try.\n",
      "Error message: 429 Too Many Requests\n",
      "88 - Rate limit exceeded\n",
      "0\n"
     ]
    }
   ],
   "source": [
    "followers = get_followers(user_handle, 300)\n",
    "print(len(followers))"
   ]
  },
  {
   "cell_type": "markdown",
   "metadata": {},
   "source": [
    "## Retrieve large number of user timeline tweets"
   ]
  },
  {
   "cell_type": "code",
   "execution_count": 15,
   "metadata": {},
   "outputs": [],
   "source": [
    "# support retrieve large number of tweets\n",
    "def get_user_timeline_tweets_advanced(user_handle, num_tweets):\n",
    "    \"\"\"\n",
    "    Retrieve num_tweets recent tweets of an user_handle\n",
    "    Support repeatly retrieving tweets until reached the rate limit.\n",
    "    Print a short summary of the total number of tweets retrieved and time spent.\n",
    "    \n",
    "    Return a list of retrieved tweets (each tweet is a tweepy Status object) \n",
    "    \"\"\"\n",
    "\n",
    "    tweets = []\n",
    "    run_num = 0\n",
    "    tweet_num = 0\n",
    "    program_start = time.time()\n",
    "\n",
    "    while len(tweets) < num_tweets:\n",
    "        try:\n",
    "            for status in tweepy.Cursor(api.user_timeline, screen_name = user_handle, tweet_mode = 'extended').items(num_tweets):\n",
    "                if len(tweets) < num_tweets:\n",
    "                    tweets.append(status)\n",
    "                    tweet_num += 1\n",
    "                else:\n",
    "                    break\n",
    "        except Exception as e:\n",
    "            if tweepy.TooManyRequests:  #if TRUE this means we hit a rate limit error\n",
    "                print(f\"Reached rate limits after {n} iterations. Please sleep 15 minutes for the next try.\")   \n",
    "                print(f'Error message: {e}')\n",
    "            else:\n",
    "                print(\"Some unknown reason occured, HEEEEELP!\")\n",
    "                print(f'Error message: {e}')\n",
    "            break\n",
    "        run_num += 1\n",
    "    \n",
    "    # print a summary\n",
    "    program_end = time.time()\n",
    "    program_duration_run = round((program_end-program_start)/60, 2)\n",
    "    print('-------------')\n",
    "    print('Summary: {} tweets retrieved after {} runs, taking {} mins in total.'.format(tweet_num, run_num, program_duration_run))  \n",
    "    \n",
    "    return tweets"
   ]
  },
  {
   "cell_type": "code",
   "execution_count": 16,
   "metadata": {},
   "outputs": [
    {
     "name": "stdout",
     "output_type": "stream",
     "text": [
      "-------------\n",
      "Summary: 3000 tweets retrieved after 1 runs, taking 0.7 mins in total.\n",
      "3000\n"
     ]
    }
   ],
   "source": [
    "large_tweets = get_user_timeline_tweets_advanced('Oprah', 3000)\n",
    "print(len(large_tweets))"
   ]
  },
  {
   "cell_type": "markdown",
   "metadata": {},
   "source": [
    "## Save retrieved tweets data to a json file"
   ]
  },
  {
   "cell_type": "code",
   "execution_count": 17,
   "metadata": {},
   "outputs": [],
   "source": [
    "# save retrieved tweets data as json object\n",
    "def save_tweets_data_to_json_file(tweets, json_file_path):\n",
    "    \"\"\" save retrieved tweets data to a json file\n",
    "        return the json file name\n",
    "    \"\"\"\n",
    "    # get all json files from Staus object of retrieved tweets \n",
    "    tweets_list = []\n",
    "    for tweet in tweets:\n",
    "        tweets_list.append(tweet._json)\n",
    "\n",
    "    # write retrieved tweets to json file\n",
    "    with open(json_file_path, 'w') as json_file:\n",
    "        json.dump(tweets_list,json_file)\n",
    "    \n",
    "\n",
    "# read json file \n",
    "def read_json_file(json_file_path):\n",
    "    \"\"\" read tweets data from the json file\n",
    "        return tweets data in json format (dictionary)\n",
    "    \"\"\"\n",
    "    with open(json_file_path) as json_file:\n",
    "        tweets = json.load(json_file)\n",
    "    \n",
    "    return tweets"
   ]
  },
  {
   "cell_type": "code",
   "execution_count": 18,
   "metadata": {},
   "outputs": [
    {
     "name": "stdout",
     "output_type": "stream",
     "text": [
      "3000\n"
     ]
    }
   ],
   "source": [
    "json_file_path = 'oprah_retrieved_tweets_data.json'\n",
    "save_tweets_data_to_json_file(large_tweets, json_file_path)\n",
    "json_tweets = read_json_file(json_file_path)\n",
    "print(len(json_tweets))\n",
    "# print(json_tweets[0])"
   ]
  },
  {
   "cell_type": "markdown",
   "metadata": {},
   "source": [
    "## Create a twitter dataframe "
   ]
  },
  {
   "cell_type": "code",
   "execution_count": 19,
   "metadata": {},
   "outputs": [],
   "source": [
    "def create_tweets_dataframe(tweets, key_list):\n",
    "    \"\"\"\n",
    "    Create a dataframe from a given sequence of tweets, and the columns are the key_list.\n",
    "    Each tweet can be a tweepy Status object or a json object (dictionary).\n",
    "    \"\"\"\n",
    "    df_array = []  \n",
    "    \n",
    "    # if tweets are the data from tweets json file (dictionary object)\n",
    "    if type(tweets[0]) is dict:\n",
    "        for tweet in tweets:\n",
    "            row=[]\n",
    "            for key in key_list:\n",
    "                row.append(tweet[key])\n",
    "            df_array.append(row)\n",
    "    \n",
    "    # if tweets are the data directly retrieved from raw tweets (Status object)    \n",
    "    else:    \n",
    "         for tweet in tweets:\n",
    "            row=[]\n",
    "            for key in key_list:\n",
    "                row.append(tweet._json[key])\n",
    "            df_array.append(row)\n",
    "      \n",
    "    t_df = pd.DataFrame(df_array, columns = key_list)\n",
    "    t_df['created_at'] = pd.to_datetime(t_df['created_at'])\n",
    "    \n",
    "    return t_df"
   ]
  },
  {
   "cell_type": "code",
   "execution_count": 20,
   "metadata": {},
   "outputs": [
    {
     "data": {
      "text/html": [
       "<div>\n",
       "<style scoped>\n",
       "    .dataframe tbody tr th:only-of-type {\n",
       "        vertical-align: middle;\n",
       "    }\n",
       "\n",
       "    .dataframe tbody tr th {\n",
       "        vertical-align: top;\n",
       "    }\n",
       "\n",
       "    .dataframe thead th {\n",
       "        text-align: right;\n",
       "    }\n",
       "</style>\n",
       "<table border=\"1\" class=\"dataframe\">\n",
       "  <thead>\n",
       "    <tr style=\"text-align: right;\">\n",
       "      <th></th>\n",
       "      <th>created_at</th>\n",
       "      <th>full_text</th>\n",
       "      <th>retweet_count</th>\n",
       "      <th>favorite_count</th>\n",
       "      <th>lang</th>\n",
       "    </tr>\n",
       "  </thead>\n",
       "  <tbody>\n",
       "    <tr>\n",
       "      <th>0</th>\n",
       "      <td>2022-03-31 18:07:52+00:00</td>\n",
       "      <td>@DriveTeslaca Yes, but we take a very cautious...</td>\n",
       "      <td>104</td>\n",
       "      <td>1270</td>\n",
       "      <td>en</td>\n",
       "    </tr>\n",
       "    <tr>\n",
       "      <th>1</th>\n",
       "      <td>2022-03-31 10:16:14+00:00</td>\n",
       "      <td>@teslaownersSV @PPathole @SpaceX Will take of it</td>\n",
       "      <td>107</td>\n",
       "      <td>1861</td>\n",
       "      <td>en</td>\n",
       "    </tr>\n",
       "    <tr>\n",
       "      <th>2</th>\n",
       "      <td>2022-03-31 06:27:05+00:00</td>\n",
       "      <td>@teslaownersSV @SpaceX You may be in an area t...</td>\n",
       "      <td>315</td>\n",
       "      <td>6145</td>\n",
       "      <td>en</td>\n",
       "    </tr>\n",
       "    <tr>\n",
       "      <th>3</th>\n",
       "      <td>2022-03-30 23:16:54+00:00</td>\n",
       "      <td>@BillyM2k 🤣</td>\n",
       "      <td>712</td>\n",
       "      <td>24954</td>\n",
       "      <td>und</td>\n",
       "    </tr>\n",
       "    <tr>\n",
       "      <th>4</th>\n",
       "      <td>2022-03-30 08:37:09+00:00</td>\n",
       "      <td>@JohnnaCrider1 Ok</td>\n",
       "      <td>509</td>\n",
       "      <td>17208</td>\n",
       "      <td>und</td>\n",
       "    </tr>\n",
       "  </tbody>\n",
       "</table>\n",
       "</div>"
      ],
      "text/plain": [
       "                 created_at  \\\n",
       "0 2022-03-31 18:07:52+00:00   \n",
       "1 2022-03-31 10:16:14+00:00   \n",
       "2 2022-03-31 06:27:05+00:00   \n",
       "3 2022-03-30 23:16:54+00:00   \n",
       "4 2022-03-30 08:37:09+00:00   \n",
       "\n",
       "                                           full_text  retweet_count  \\\n",
       "0  @DriveTeslaca Yes, but we take a very cautious...            104   \n",
       "1   @teslaownersSV @PPathole @SpaceX Will take of it            107   \n",
       "2  @teslaownersSV @SpaceX You may be in an area t...            315   \n",
       "3                                        @BillyM2k 🤣            712   \n",
       "4                                  @JohnnaCrider1 Ok            509   \n",
       "\n",
       "   favorite_count lang  \n",
       "0            1270   en  \n",
       "1            1861   en  \n",
       "2            6145   en  \n",
       "3           24954  und  \n",
       "4           17208  und  "
      ]
     },
     "execution_count": 20,
     "metadata": {},
     "output_type": "execute_result"
    }
   ],
   "source": [
    "tweets = get_user_timeline_tweets('elonmusk',20)\n",
    "key_list =['created_at','full_text','retweet_count', 'favorite_count','lang']\n",
    "tweets_df = create_tweets_dataframe(tweets, key_list)\n",
    "tweets_df.head()"
   ]
  },
  {
   "cell_type": "code",
   "execution_count": null,
   "metadata": {},
   "outputs": [],
   "source": []
  }
 ],
 "metadata": {
  "kernelspec": {
   "display_name": "Python 3",
   "language": "python",
   "name": "python3"
  },
  "language_info": {
   "codemirror_mode": {
    "name": "ipython",
    "version": 3
   },
   "file_extension": ".py",
   "mimetype": "text/x-python",
   "name": "python",
   "nbconvert_exporter": "python",
   "pygments_lexer": "ipython3",
   "version": "3.8.3"
  }
 },
 "nbformat": 4,
 "nbformat_minor": 4
}
