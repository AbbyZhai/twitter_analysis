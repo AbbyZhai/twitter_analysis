{
 "cells": [
  {
   "cell_type": "markdown",
   "metadata": {},
   "source": [
    "# Tweet data analysis 1"
   ]
  },
  {
   "cell_type": "markdown",
   "metadata": {},
   "source": [
    "## import necessary libraries"
   ]
  },
  {
   "cell_type": "code",
   "execution_count": 1,
   "metadata": {},
   "outputs": [],
   "source": [
    "import tweepy\n",
    "import json\n",
    "import pandas as pd\n",
    "import numpy as np\n",
    "import time\n",
    "import altair as alt\n",
    "from IPython.display import display\n",
    "\n",
    "import twitter_credentials"
   ]
  },
  {
   "cell_type": "markdown",
   "metadata": {},
   "source": [
    "## Use authentication credential to connect Twitter API"
   ]
  },
  {
   "cell_type": "code",
   "execution_count": 10,
   "metadata": {},
   "outputs": [],
   "source": [
    "def twitter_api_authentication():\n",
    "    \"\"\" authenticate with crediential and connect to Twitter API \"\"\"\n",
    "    \n",
    "    auth = tweepy.OAuthHandler(twitter_credentials.CONSUMER_KEY, twitter_credentials.CONSUMER_SECRET)\n",
    "    auth.set_access_token(twitter_credentials.ACCESS_TOKEN, twitter_credentials.ACCESS_TOKEN_SECRET)\n",
    "    api = tweepy.API(auth)\n",
    "    \n",
    "    return api"
   ]
  },
  {
   "cell_type": "code",
   "execution_count": 11,
   "metadata": {},
   "outputs": [],
   "source": [
    "api = twitter_api_authentication()"
   ]
  },
  {
   "cell_type": "markdown",
   "metadata": {},
   "source": [
    "## load tweets data and creat dataframe"
   ]
  },
  {
   "cell_type": "code",
   "execution_count": 2,
   "metadata": {},
   "outputs": [],
   "source": [
    "def create_tweet_df():\n",
    "\n",
    "    # load tweets data\n",
    "    path = 'oprah_retrieved_tweets_data.json'\n",
    "    with open(path, 'r') as jf:\n",
    "        tweets = json.load(jf)\n",
    "    \n",
    "    # create tweet dataframe with specified columns\n",
    "    key_list =['created_at','full_text','retweet_count', 'favorite_count','lang']\n",
    "    df = pd.DataFrame(tweets, columns= key_list)\n",
    "    df['created_at'] = pd.to_datetime(df['created_at'])\n",
    "    return df"
   ]
  },
  {
   "cell_type": "code",
   "execution_count": 3,
   "metadata": {},
   "outputs": [
    {
     "name": "stdout",
     "output_type": "stream",
     "text": [
      "(3000, 5)\n"
     ]
    },
    {
     "data": {
      "text/html": [
       "<div>\n",
       "<style scoped>\n",
       "    .dataframe tbody tr th:only-of-type {\n",
       "        vertical-align: middle;\n",
       "    }\n",
       "\n",
       "    .dataframe tbody tr th {\n",
       "        vertical-align: top;\n",
       "    }\n",
       "\n",
       "    .dataframe thead th {\n",
       "        text-align: right;\n",
       "    }\n",
       "</style>\n",
       "<table border=\"1\" class=\"dataframe\">\n",
       "  <thead>\n",
       "    <tr style=\"text-align: right;\">\n",
       "      <th></th>\n",
       "      <th>created_at</th>\n",
       "      <th>full_text</th>\n",
       "      <th>retweet_count</th>\n",
       "      <th>favorite_count</th>\n",
       "      <th>lang</th>\n",
       "    </tr>\n",
       "  </thead>\n",
       "  <tbody>\n",
       "    <tr>\n",
       "      <th>0</th>\n",
       "      <td>2022-03-27 17:21:54+00:00</td>\n",
       "      <td>@LizToo2010 @nada0971 Yes Liz such a loss to a...</td>\n",
       "      <td>9</td>\n",
       "      <td>83</td>\n",
       "      <td>en</td>\n",
       "    </tr>\n",
       "    <tr>\n",
       "      <th>1</th>\n",
       "      <td>2022-03-27 17:12:56+00:00</td>\n",
       "      <td>RT @franklinleonard: Whatever happens tonight,...</td>\n",
       "      <td>19</td>\n",
       "      <td>0</td>\n",
       "      <td>en</td>\n",
       "    </tr>\n",
       "    <tr>\n",
       "      <th>2</th>\n",
       "      <td>2022-03-27 17:01:53+00:00</td>\n",
       "      <td>Surreal! You know why?? Cause the “Good Lord W...</td>\n",
       "      <td>93</td>\n",
       "      <td>993</td>\n",
       "      <td>en</td>\n",
       "    </tr>\n",
       "    <tr>\n",
       "      <th>3</th>\n",
       "      <td>2022-03-25 23:34:45+00:00</td>\n",
       "      <td>RT @OprahDaily: .@Oprah is returning to #TheCo...</td>\n",
       "      <td>80</td>\n",
       "      <td>0</td>\n",
       "      <td>en</td>\n",
       "    </tr>\n",
       "    <tr>\n",
       "      <th>4</th>\n",
       "      <td>2022-03-19 01:05:49+00:00</td>\n",
       "      <td>RT @Essence: Tamela Mann, Deon Cole and David ...</td>\n",
       "      <td>63</td>\n",
       "      <td>0</td>\n",
       "      <td>en</td>\n",
       "    </tr>\n",
       "  </tbody>\n",
       "</table>\n",
       "</div>"
      ],
      "text/plain": [
       "                 created_at  \\\n",
       "0 2022-03-27 17:21:54+00:00   \n",
       "1 2022-03-27 17:12:56+00:00   \n",
       "2 2022-03-27 17:01:53+00:00   \n",
       "3 2022-03-25 23:34:45+00:00   \n",
       "4 2022-03-19 01:05:49+00:00   \n",
       "\n",
       "                                           full_text  retweet_count  \\\n",
       "0  @LizToo2010 @nada0971 Yes Liz such a loss to a...              9   \n",
       "1  RT @franklinleonard: Whatever happens tonight,...             19   \n",
       "2  Surreal! You know why?? Cause the “Good Lord W...             93   \n",
       "3  RT @OprahDaily: .@Oprah is returning to #TheCo...             80   \n",
       "4  RT @Essence: Tamela Mann, Deon Cole and David ...             63   \n",
       "\n",
       "   favorite_count lang  \n",
       "0              83   en  \n",
       "1               0   en  \n",
       "2             993   en  \n",
       "3               0   en  \n",
       "4               0   en  "
      ]
     },
     "execution_count": 3,
     "metadata": {},
     "output_type": "execute_result"
    }
   ],
   "source": [
    "tweets_df = create_tweet_df()\n",
    "print(tweets_df.shape)\n",
    "tweets_df.head()"
   ]
  },
  {
   "cell_type": "markdown",
   "metadata": {},
   "source": [
    "## heatmap of when tweets are sent"
   ]
  },
  {
   "cell_type": "code",
   "execution_count": 4,
   "metadata": {},
   "outputs": [],
   "source": [
    "def create_weekday_hour_df(tweets_dataframe):\n",
    "    \"\"\"\n",
    "    Create a dataframe that counts the number of tweets per weekday (Mon-Sun) per hour of the day (0-23)\n",
    "    \"\"\"\n",
    "    day_hour = tweets_dataframe\n",
    "\n",
    "    keys = [0,1,2,3,4,5,6]\n",
    "    values = ['Monday','Tuesday','Wednesday','Thursday','Friday','Saturday','Sunday']\n",
    "    date_dict = dict(zip(keys,values))\n",
    "    \n",
    "    day_hour = day_hour.loc[:,['created_at',]]\n",
    "    day_hour['hour'] = day_hour['created_at'].dt.hour.astype('str')\n",
    "    day_hour['weekday'] = day_hour['created_at'].dt.weekday.map(date_dict)\n",
    "    \n",
    "    day_hour = day_hour.groupby(['weekday','hour']).count().reset_index()\n",
    "    day_hour.rename(columns={'created_at':'number of tweets'}, inplace = True)\n",
    "    \n",
    "    return day_hour\n",
    "\n",
    "\n",
    "def plot_weekday_hour(weekday_hour_df):\n",
    "    \"\"\"\n",
    "    A visualization of the number of tweets per weekday (Mon-Sun) and per hour of the day (0-23). \n",
    "    \"\"\"\n",
    "    chart = alt.Chart(pd.DataFrame([])).mark_rect()\n",
    "\n",
    "    hour_order = [str(i) for i in range(0,24)]\n",
    "    weekday_order = ['Monday','Tuesday','Wednesday','Thursday','Friday','Saturday','Sunday']\n",
    "    \n",
    "    chart = alt.Chart(weekday_hour_df).mark_rect().encode(\n",
    "        x = alt.X('hour:O', sort= hour_order),\n",
    "        y = alt.Y('weekday:O', sort = weekday_order),\n",
    "        color = 'number of tweets:Q')\n",
    "    \n",
    "    display(chart)"
   ]
  },
  {
   "cell_type": "code",
   "execution_count": 5,
   "metadata": {},
   "outputs": [
    {
     "data": {
      "text/html": [
       "\n",
       "<div id=\"altair-viz-c544c9527cd44bb99d27173b7c3cc2db\"></div>\n",
       "<script type=\"text/javascript\">\n",
       "  (function(spec, embedOpt){\n",
       "    let outputDiv = document.currentScript.previousElementSibling;\n",
       "    if (outputDiv.id !== \"altair-viz-c544c9527cd44bb99d27173b7c3cc2db\") {\n",
       "      outputDiv = document.getElementById(\"altair-viz-c544c9527cd44bb99d27173b7c3cc2db\");\n",
       "    }\n",
       "    const paths = {\n",
       "      \"vega\": \"https://cdn.jsdelivr.net/npm//vega@5?noext\",\n",
       "      \"vega-lib\": \"https://cdn.jsdelivr.net/npm//vega-lib?noext\",\n",
       "      \"vega-lite\": \"https://cdn.jsdelivr.net/npm//vega-lite@4.8.1?noext\",\n",
       "      \"vega-embed\": \"https://cdn.jsdelivr.net/npm//vega-embed@6?noext\",\n",
       "    };\n",
       "\n",
       "    function loadScript(lib) {\n",
       "      return new Promise(function(resolve, reject) {\n",
       "        var s = document.createElement('script');\n",
       "        s.src = paths[lib];\n",
       "        s.async = true;\n",
       "        s.onload = () => resolve(paths[lib]);\n",
       "        s.onerror = () => reject(`Error loading script: ${paths[lib]}`);\n",
       "        document.getElementsByTagName(\"head\")[0].appendChild(s);\n",
       "      });\n",
       "    }\n",
       "\n",
       "    function showError(err) {\n",
       "      outputDiv.innerHTML = `<div class=\"error\" style=\"color:red;\">${err}</div>`;\n",
       "      throw err;\n",
       "    }\n",
       "\n",
       "    function displayChart(vegaEmbed) {\n",
       "      vegaEmbed(outputDiv, spec, embedOpt)\n",
       "        .catch(err => showError(`Javascript Error: ${err.message}<br>This usually means there's a typo in your chart specification. See the javascript console for the full traceback.`));\n",
       "    }\n",
       "\n",
       "    if(typeof define === \"function\" && define.amd) {\n",
       "      requirejs.config({paths});\n",
       "      require([\"vega-embed\"], displayChart, err => showError(`Error loading script: ${err.message}`));\n",
       "    } else if (typeof vegaEmbed === \"function\") {\n",
       "      displayChart(vegaEmbed);\n",
       "    } else {\n",
       "      loadScript(\"vega\")\n",
       "        .then(() => loadScript(\"vega-lite\"))\n",
       "        .then(() => loadScript(\"vega-embed\"))\n",
       "        .catch(showError)\n",
       "        .then(() => displayChart(vegaEmbed));\n",
       "    }\n",
       "  })({\"config\": {\"view\": {\"continuousWidth\": 400, \"continuousHeight\": 300}}, \"data\": {\"name\": \"data-8f4fc90e42b6ae697ed29cf645aab5f9\"}, \"mark\": \"rect\", \"encoding\": {\"color\": {\"type\": \"quantitative\", \"field\": \"number of tweets\"}, \"x\": {\"type\": \"ordinal\", \"field\": \"hour\", \"sort\": [\"0\", \"1\", \"2\", \"3\", \"4\", \"5\", \"6\", \"7\", \"8\", \"9\", \"10\", \"11\", \"12\", \"13\", \"14\", \"15\", \"16\", \"17\", \"18\", \"19\", \"20\", \"21\", \"22\", \"23\"]}, \"y\": {\"type\": \"ordinal\", \"field\": \"weekday\", \"sort\": [\"Monday\", \"Tuesday\", \"Wednesday\", \"Thursday\", \"Friday\", \"Saturday\", \"Sunday\"]}}, \"$schema\": \"https://vega.github.io/schema/vega-lite/v4.8.1.json\", \"datasets\": {\"data-8f4fc90e42b6ae697ed29cf645aab5f9\": [{\"weekday\": \"Friday\", \"hour\": \"0\", \"number of tweets\": 38}, {\"weekday\": \"Friday\", \"hour\": \"1\", \"number of tweets\": 32}, {\"weekday\": \"Friday\", \"hour\": \"12\", \"number of tweets\": 1}, {\"weekday\": \"Friday\", \"hour\": \"13\", \"number of tweets\": 22}, {\"weekday\": \"Friday\", \"hour\": \"14\", \"number of tweets\": 7}, {\"weekday\": \"Friday\", \"hour\": \"15\", \"number of tweets\": 34}, {\"weekday\": \"Friday\", \"hour\": \"16\", \"number of tweets\": 14}, {\"weekday\": \"Friday\", \"hour\": \"17\", \"number of tweets\": 30}, {\"weekday\": \"Friday\", \"hour\": \"18\", \"number of tweets\": 17}, {\"weekday\": \"Friday\", \"hour\": \"19\", \"number of tweets\": 7}, {\"weekday\": \"Friday\", \"hour\": \"2\", \"number of tweets\": 25}, {\"weekday\": \"Friday\", \"hour\": \"20\", \"number of tweets\": 28}, {\"weekday\": \"Friday\", \"hour\": \"21\", \"number of tweets\": 5}, {\"weekday\": \"Friday\", \"hour\": \"22\", \"number of tweets\": 11}, {\"weekday\": \"Friday\", \"hour\": \"23\", \"number of tweets\": 9}, {\"weekday\": \"Friday\", \"hour\": \"3\", \"number of tweets\": 13}, {\"weekday\": \"Friday\", \"hour\": \"4\", \"number of tweets\": 9}, {\"weekday\": \"Friday\", \"hour\": \"5\", \"number of tweets\": 3}, {\"weekday\": \"Friday\", \"hour\": \"6\", \"number of tweets\": 3}, {\"weekday\": \"Friday\", \"hour\": \"7\", \"number of tweets\": 1}, {\"weekday\": \"Friday\", \"hour\": \"8\", \"number of tweets\": 2}, {\"weekday\": \"Monday\", \"hour\": \"0\", \"number of tweets\": 18}, {\"weekday\": \"Monday\", \"hour\": \"1\", \"number of tweets\": 9}, {\"weekday\": \"Monday\", \"hour\": \"10\", \"number of tweets\": 1}, {\"weekday\": \"Monday\", \"hour\": \"11\", \"number of tweets\": 5}, {\"weekday\": \"Monday\", \"hour\": \"12\", \"number of tweets\": 20}, {\"weekday\": \"Monday\", \"hour\": \"13\", \"number of tweets\": 26}, {\"weekday\": \"Monday\", \"hour\": \"14\", \"number of tweets\": 21}, {\"weekday\": \"Monday\", \"hour\": \"15\", \"number of tweets\": 5}, {\"weekday\": \"Monday\", \"hour\": \"16\", \"number of tweets\": 21}, {\"weekday\": \"Monday\", \"hour\": \"17\", \"number of tweets\": 6}, {\"weekday\": \"Monday\", \"hour\": \"18\", \"number of tweets\": 15}, {\"weekday\": \"Monday\", \"hour\": \"19\", \"number of tweets\": 17}, {\"weekday\": \"Monday\", \"hour\": \"2\", \"number of tweets\": 20}, {\"weekday\": \"Monday\", \"hour\": \"20\", \"number of tweets\": 5}, {\"weekday\": \"Monday\", \"hour\": \"21\", \"number of tweets\": 9}, {\"weekday\": \"Monday\", \"hour\": \"22\", \"number of tweets\": 13}, {\"weekday\": \"Monday\", \"hour\": \"23\", \"number of tweets\": 35}, {\"weekday\": \"Monday\", \"hour\": \"3\", \"number of tweets\": 8}, {\"weekday\": \"Monday\", \"hour\": \"4\", \"number of tweets\": 13}, {\"weekday\": \"Monday\", \"hour\": \"5\", \"number of tweets\": 5}, {\"weekday\": \"Monday\", \"hour\": \"6\", \"number of tweets\": 4}, {\"weekday\": \"Monday\", \"hour\": \"9\", \"number of tweets\": 2}, {\"weekday\": \"Saturday\", \"hour\": \"0\", \"number of tweets\": 25}, {\"weekday\": \"Saturday\", \"hour\": \"1\", \"number of tweets\": 44}, {\"weekday\": \"Saturday\", \"hour\": \"10\", \"number of tweets\": 1}, {\"weekday\": \"Saturday\", \"hour\": \"12\", \"number of tweets\": 1}, {\"weekday\": \"Saturday\", \"hour\": \"13\", \"number of tweets\": 19}, {\"weekday\": \"Saturday\", \"hour\": \"14\", \"number of tweets\": 22}, {\"weekday\": \"Saturday\", \"hour\": \"15\", \"number of tweets\": 50}, {\"weekday\": \"Saturday\", \"hour\": \"16\", \"number of tweets\": 43}, {\"weekday\": \"Saturday\", \"hour\": \"17\", \"number of tweets\": 10}, {\"weekday\": \"Saturday\", \"hour\": \"18\", \"number of tweets\": 12}, {\"weekday\": \"Saturday\", \"hour\": \"19\", \"number of tweets\": 3}, {\"weekday\": \"Saturday\", \"hour\": \"2\", \"number of tweets\": 17}, {\"weekday\": \"Saturday\", \"hour\": \"20\", \"number of tweets\": 16}, {\"weekday\": \"Saturday\", \"hour\": \"21\", \"number of tweets\": 16}, {\"weekday\": \"Saturday\", \"hour\": \"22\", \"number of tweets\": 14}, {\"weekday\": \"Saturday\", \"hour\": \"23\", \"number of tweets\": 20}, {\"weekday\": \"Saturday\", \"hour\": \"3\", \"number of tweets\": 15}, {\"weekday\": \"Saturday\", \"hour\": \"4\", \"number of tweets\": 5}, {\"weekday\": \"Saturday\", \"hour\": \"5\", \"number of tweets\": 1}, {\"weekday\": \"Saturday\", \"hour\": \"6\", \"number of tweets\": 1}, {\"weekday\": \"Saturday\", \"hour\": \"8\", \"number of tweets\": 1}, {\"weekday\": \"Sunday\", \"hour\": \"0\", \"number of tweets\": 27}, {\"weekday\": \"Sunday\", \"hour\": \"1\", \"number of tweets\": 67}, {\"weekday\": \"Sunday\", \"hour\": \"13\", \"number of tweets\": 2}, {\"weekday\": \"Sunday\", \"hour\": \"14\", \"number of tweets\": 9}, {\"weekday\": \"Sunday\", \"hour\": \"15\", \"number of tweets\": 28}, {\"weekday\": \"Sunday\", \"hour\": \"16\", \"number of tweets\": 31}, {\"weekday\": \"Sunday\", \"hour\": \"17\", \"number of tweets\": 18}, {\"weekday\": \"Sunday\", \"hour\": \"18\", \"number of tweets\": 10}, {\"weekday\": \"Sunday\", \"hour\": \"19\", \"number of tweets\": 6}, {\"weekday\": \"Sunday\", \"hour\": \"2\", \"number of tweets\": 79}, {\"weekday\": \"Sunday\", \"hour\": \"20\", \"number of tweets\": 5}, {\"weekday\": \"Sunday\", \"hour\": \"21\", \"number of tweets\": 8}, {\"weekday\": \"Sunday\", \"hour\": \"22\", \"number of tweets\": 2}, {\"weekday\": \"Sunday\", \"hour\": \"23\", \"number of tweets\": 11}, {\"weekday\": \"Sunday\", \"hour\": \"3\", \"number of tweets\": 20}, {\"weekday\": \"Sunday\", \"hour\": \"4\", \"number of tweets\": 7}, {\"weekday\": \"Sunday\", \"hour\": \"5\", \"number of tweets\": 13}, {\"weekday\": \"Sunday\", \"hour\": \"6\", \"number of tweets\": 2}, {\"weekday\": \"Sunday\", \"hour\": \"7\", \"number of tweets\": 1}, {\"weekday\": \"Sunday\", \"hour\": \"8\", \"number of tweets\": 2}, {\"weekday\": \"Thursday\", \"hour\": \"0\", \"number of tweets\": 50}, {\"weekday\": \"Thursday\", \"hour\": \"1\", \"number of tweets\": 129}, {\"weekday\": \"Thursday\", \"hour\": \"12\", \"number of tweets\": 4}, {\"weekday\": \"Thursday\", \"hour\": \"13\", \"number of tweets\": 31}, {\"weekday\": \"Thursday\", \"hour\": \"14\", \"number of tweets\": 35}, {\"weekday\": \"Thursday\", \"hour\": \"15\", \"number of tweets\": 10}, {\"weekday\": \"Thursday\", \"hour\": \"16\", \"number of tweets\": 6}, {\"weekday\": \"Thursday\", \"hour\": \"17\", \"number of tweets\": 9}, {\"weekday\": \"Thursday\", \"hour\": \"18\", \"number of tweets\": 19}, {\"weekday\": \"Thursday\", \"hour\": \"19\", \"number of tweets\": 11}, {\"weekday\": \"Thursday\", \"hour\": \"2\", \"number of tweets\": 174}, {\"weekday\": \"Thursday\", \"hour\": \"20\", \"number of tweets\": 14}, {\"weekday\": \"Thursday\", \"hour\": \"21\", \"number of tweets\": 24}, {\"weekday\": \"Thursday\", \"hour\": \"22\", \"number of tweets\": 40}, {\"weekday\": \"Thursday\", \"hour\": \"23\", \"number of tweets\": 20}, {\"weekday\": \"Thursday\", \"hour\": \"3\", \"number of tweets\": 71}, {\"weekday\": \"Thursday\", \"hour\": \"4\", \"number of tweets\": 12}, {\"weekday\": \"Thursday\", \"hour\": \"5\", \"number of tweets\": 9}, {\"weekday\": \"Thursday\", \"hour\": \"7\", \"number of tweets\": 3}, {\"weekday\": \"Tuesday\", \"hour\": \"0\", \"number of tweets\": 17}, {\"weekday\": \"Tuesday\", \"hour\": \"1\", \"number of tweets\": 43}, {\"weekday\": \"Tuesday\", \"hour\": \"12\", \"number of tweets\": 54}, {\"weekday\": \"Tuesday\", \"hour\": \"13\", \"number of tweets\": 58}, {\"weekday\": \"Tuesday\", \"hour\": \"14\", \"number of tweets\": 52}, {\"weekday\": \"Tuesday\", \"hour\": \"15\", \"number of tweets\": 14}, {\"weekday\": \"Tuesday\", \"hour\": \"16\", \"number of tweets\": 20}, {\"weekday\": \"Tuesday\", \"hour\": \"17\", \"number of tweets\": 13}, {\"weekday\": \"Tuesday\", \"hour\": \"18\", \"number of tweets\": 17}, {\"weekday\": \"Tuesday\", \"hour\": \"19\", \"number of tweets\": 4}, {\"weekday\": \"Tuesday\", \"hour\": \"2\", \"number of tweets\": 15}, {\"weekday\": \"Tuesday\", \"hour\": \"20\", \"number of tweets\": 57}, {\"weekday\": \"Tuesday\", \"hour\": \"21\", \"number of tweets\": 23}, {\"weekday\": \"Tuesday\", \"hour\": \"22\", \"number of tweets\": 26}, {\"weekday\": \"Tuesday\", \"hour\": \"23\", \"number of tweets\": 23}, {\"weekday\": \"Tuesday\", \"hour\": \"3\", \"number of tweets\": 5}, {\"weekday\": \"Tuesday\", \"hour\": \"4\", \"number of tweets\": 4}, {\"weekday\": \"Wednesday\", \"hour\": \"0\", \"number of tweets\": 47}, {\"weekday\": \"Wednesday\", \"hour\": \"1\", \"number of tweets\": 86}, {\"weekday\": \"Wednesday\", \"hour\": \"12\", \"number of tweets\": 4}, {\"weekday\": \"Wednesday\", \"hour\": \"13\", \"number of tweets\": 11}, {\"weekday\": \"Wednesday\", \"hour\": \"14\", \"number of tweets\": 23}, {\"weekday\": \"Wednesday\", \"hour\": \"15\", \"number of tweets\": 20}, {\"weekday\": \"Wednesday\", \"hour\": \"16\", \"number of tweets\": 14}, {\"weekday\": \"Wednesday\", \"hour\": \"17\", \"number of tweets\": 26}, {\"weekday\": \"Wednesday\", \"hour\": \"18\", \"number of tweets\": 19}, {\"weekday\": \"Wednesday\", \"hour\": \"19\", \"number of tweets\": 10}, {\"weekday\": \"Wednesday\", \"hour\": \"2\", \"number of tweets\": 109}, {\"weekday\": \"Wednesday\", \"hour\": \"20\", \"number of tweets\": 9}, {\"weekday\": \"Wednesday\", \"hour\": \"21\", \"number of tweets\": 39}, {\"weekday\": \"Wednesday\", \"hour\": \"22\", \"number of tweets\": 25}, {\"weekday\": \"Wednesday\", \"hour\": \"23\", \"number of tweets\": 48}, {\"weekday\": \"Wednesday\", \"hour\": \"3\", \"number of tweets\": 76}, {\"weekday\": \"Wednesday\", \"hour\": \"4\", \"number of tweets\": 23}, {\"weekday\": \"Wednesday\", \"hour\": \"5\", \"number of tweets\": 17}, {\"weekday\": \"Wednesday\", \"hour\": \"6\", \"number of tweets\": 5}]}}, {\"mode\": \"vega-lite\"});\n",
       "</script>"
      ],
      "text/plain": [
       "alt.Chart(...)"
      ]
     },
     "metadata": {},
     "output_type": "display_data"
    }
   ],
   "source": [
    "# use large json_tweets data (loaded from oprah_retrieved_tweets_data) to do vis\n",
    "weekday_hour_df = create_weekday_hour_df(tweets_df)\n",
    "plot_weekday_hour(weekday_hour_df)"
   ]
  },
  {
   "cell_type": "markdown",
   "metadata": {},
   "source": [
    "## bar chart of when tweets are created"
   ]
  },
  {
   "cell_type": "code",
   "execution_count": 6,
   "metadata": {},
   "outputs": [],
   "source": [
    "def plot_tweet_creation_date_count(tweets_dataframe):\n",
    "\n",
    "    # prepare data\n",
    "    keys = [0,1,2,3,4,5,6]\n",
    "    values = ['Monday','Tuesday','Wednesday','Thursday','Friday','Saturday','Sunday']\n",
    "    date_dict = dict(zip(keys,values))\n",
    "\n",
    "    df = tweets_dataframe.loc[:,['created_at',]]\n",
    "    df['weekday'] = df['created_at'].dt.weekday.map(date_dict)\n",
    "    df['date'] = df['created_at'].dt.date\n",
    "    df['date'] = pd.to_datetime(df['date'])\n",
    "    df['date'] = df['date'].dt.strftime('%m/%d/%Y')\n",
    "\n",
    "    # make left chart\n",
    "    left = alt.Chart(df).mark_bar().encode(\n",
    "        x = alt.X('weekday:O', sort = values),\n",
    "        y = alt.Y('count():Q', title = 'number of tweets'))\n",
    "    \n",
    "    # make right chart\n",
    "    # sort string date first by year, then month and day\n",
    "    date = df.date.to_list()\n",
    "    date_order = sorted(date, key = lambda x: (x.split('/')[-1], x.split('/')[0], x.split('/')[1]))\n",
    "\n",
    "    right = alt.Chart(df).mark_bar().encode(\n",
    "            x = alt.X('date:O', \n",
    "                      sort = date_order\n",
    "                     ),\n",
    "            y = alt.Y('count(date):Q', title = 'number of tweets')\n",
    "        ).properties(width = 700)\n",
    "    \n",
    "    # final chart\n",
    "    chart = (left | right)\n",
    "    display(chart)"
   ]
  },
  {
   "cell_type": "code",
   "execution_count": 7,
   "metadata": {},
   "outputs": [
    {
     "data": {
      "text/html": [
       "\n",
       "<div id=\"altair-viz-97973b12925c44b1ab27fd4364ba860b\"></div>\n",
       "<script type=\"text/javascript\">\n",
       "  (function(spec, embedOpt){\n",
       "    let outputDiv = document.currentScript.previousElementSibling;\n",
       "    if (outputDiv.id !== \"altair-viz-97973b12925c44b1ab27fd4364ba860b\") {\n",
       "      outputDiv = document.getElementById(\"altair-viz-97973b12925c44b1ab27fd4364ba860b\");\n",
       "    }\n",
       "    const paths = {\n",
       "      \"vega\": \"https://cdn.jsdelivr.net/npm//vega@5?noext\",\n",
       "      \"vega-lib\": \"https://cdn.jsdelivr.net/npm//vega-lib?noext\",\n",
       "      \"vega-lite\": \"https://cdn.jsdelivr.net/npm//vega-lite@4.8.1?noext\",\n",
       "      \"vega-embed\": \"https://cdn.jsdelivr.net/npm//vega-embed@6?noext\",\n",
       "    };\n",
       "\n",
       "    function loadScript(lib) {\n",
       "      return new Promise(function(resolve, reject) {\n",
       "        var s = document.createElement('script');\n",
       "        s.src = paths[lib];\n",
       "        s.async = true;\n",
       "        s.onload = () => resolve(paths[lib]);\n",
       "        s.onerror = () => reject(`Error loading script: ${paths[lib]}`);\n",
       "        document.getElementsByTagName(\"head\")[0].appendChild(s);\n",
       "      });\n",
       "    }\n",
       "\n",
       "    function showError(err) {\n",
       "      outputDiv.innerHTML = `<div class=\"error\" style=\"color:red;\">${err}</div>`;\n",
       "      throw err;\n",
       "    }\n",
       "\n",
       "    function displayChart(vegaEmbed) {\n",
       "      vegaEmbed(outputDiv, spec, embedOpt)\n",
       "        .catch(err => showError(`Javascript Error: ${err.message}<br>This usually means there's a typo in your chart specification. See the javascript console for the full traceback.`));\n",
       "    }\n",
       "\n",
       "    if(typeof define === \"function\" && define.amd) {\n",
       "      requirejs.config({paths});\n",
       "      require([\"vega-embed\"], displayChart, err => showError(`Error loading script: ${err.message}`));\n",
       "    } else if (typeof vegaEmbed === \"function\") {\n",
       "      displayChart(vegaEmbed);\n",
       "    } else {\n",
       "      loadScript(\"vega\")\n",
       "        .then(() => loadScript(\"vega-lite\"))\n",
       "        .then(() => loadScript(\"vega-embed\"))\n",
       "        .catch(showError)\n",
       "        .then(() => displayChart(vegaEmbed));\n",
       "    }\n",
       "  })({\"config\": {\"view\": {\"continuousWidth\": 400, \"continuousHeight\": 300}}, \"hconcat\": [{\"mark\": \"bar\", \"encoding\": {\"x\": {\"type\": \"ordinal\", \"field\": \"weekday\", \"sort\": [\"Monday\", \"Tuesday\", \"Wednesday\", \"Thursday\", \"Friday\", \"Saturday\", \"Sunday\"]}, \"y\": {\"type\": \"quantitative\", \"aggregate\": \"count\", \"title\": \"number of tweets\"}}}, {\"mark\": \"bar\", \"encoding\": {\"x\": {\"type\": \"ordinal\", \"field\": \"date\", \"sort\": [\"09/18/2021\", \"09/21/2021\", \"09/23/2021\", \"09/24/2021\", \"09/24/2021\", \"09/25/2021\", \"09/25/2021\", \"09/25/2021\", \"09/27/2021\", \"09/27/2021\", \"09/28/2021\", \"09/28/2021\", \"09/28/2021\", \"09/28/2021\", \"09/28/2021\", \"09/28/2021\", \"09/28/2021\", \"09/29/2021\", \"10/04/2021\", \"10/13/2021\", \"10/20/2021\", \"10/24/2021\", \"10/24/2021\", \"10/27/2021\", \"10/31/2021\", \"11/01/2021\", \"11/01/2021\", \"11/01/2021\", \"11/01/2021\", \"11/05/2021\", \"11/05/2021\", \"11/05/2021\", \"11/10/2021\", \"11/10/2021\", \"11/10/2021\", \"11/10/2021\", \"11/12/2021\", \"11/12/2021\", \"11/12/2021\", \"11/12/2021\", \"11/13/2021\", \"11/14/2021\", \"11/14/2021\", \"11/14/2021\", \"11/15/2021\", \"11/15/2021\", \"11/15/2021\", \"11/15/2021\", \"11/15/2021\", \"11/15/2021\", \"11/16/2021\", \"11/17/2021\", \"11/18/2021\", \"11/18/2021\", \"11/19/2021\", \"11/19/2021\", \"11/19/2021\", \"11/19/2021\", \"11/19/2021\", \"12/02/2021\", \"12/03/2021\", \"12/16/2021\", \"12/26/2021\", \"01/01/2022\", \"01/06/2022\", \"01/07/2022\", \"01/07/2022\", \"01/10/2022\", \"01/17/2022\", \"01/18/2022\", \"01/18/2022\", \"01/19/2022\", \"01/21/2022\", \"01/23/2022\", \"02/02/2022\", \"02/04/2022\", \"02/04/2022\", \"02/04/2022\", \"02/04/2022\", \"02/04/2022\", \"02/04/2022\", \"02/04/2022\", \"02/05/2022\", \"02/08/2022\", \"02/08/2022\", \"02/08/2022\", \"02/08/2022\", \"02/08/2022\", \"02/08/2022\", \"02/08/2022\", \"02/09/2022\", \"02/23/2022\", \"02/26/2022\", \"03/06/2022\", \"03/09/2022\", \"03/19/2022\", \"03/25/2022\", \"03/27/2022\", \"03/27/2022\", \"03/27/2022\"]}, \"y\": {\"type\": \"quantitative\", \"aggregate\": \"count\", \"field\": \"date\", \"title\": \"number of tweets\"}}, \"width\": 700}], \"data\": {\"name\": \"data-ab8d69092ed8448551c6a18cd793af4e\"}, \"$schema\": \"https://vega.github.io/schema/vega-lite/v4.8.1.json\", \"datasets\": {\"data-ab8d69092ed8448551c6a18cd793af4e\": [{\"created_at\": \"2022-03-27T17:21:54+00:00\", \"weekday\": \"Sunday\", \"date\": \"03/27/2022\"}, {\"created_at\": \"2022-03-27T17:12:56+00:00\", \"weekday\": \"Sunday\", \"date\": \"03/27/2022\"}, {\"created_at\": \"2022-03-27T17:01:53+00:00\", \"weekday\": \"Sunday\", \"date\": \"03/27/2022\"}, {\"created_at\": \"2022-03-25T23:34:45+00:00\", \"weekday\": \"Friday\", \"date\": \"03/25/2022\"}, {\"created_at\": \"2022-03-19T01:05:49+00:00\", \"weekday\": \"Saturday\", \"date\": \"03/19/2022\"}, {\"created_at\": \"2022-03-09T00:09:18+00:00\", \"weekday\": \"Wednesday\", \"date\": \"03/09/2022\"}, {\"created_at\": \"2022-03-06T21:42:21+00:00\", \"weekday\": \"Sunday\", \"date\": \"03/06/2022\"}, {\"created_at\": \"2022-02-26T15:46:48+00:00\", \"weekday\": \"Saturday\", \"date\": \"02/26/2022\"}, {\"created_at\": \"2022-02-23T00:08:23+00:00\", \"weekday\": \"Wednesday\", \"date\": \"02/23/2022\"}, {\"created_at\": \"2022-02-09T00:09:30+00:00\", \"weekday\": \"Wednesday\", \"date\": \"02/09/2022\"}, {\"created_at\": \"2022-02-08T13:58:02+00:00\", \"weekday\": \"Tuesday\", \"date\": \"02/08/2022\"}, {\"created_at\": \"2022-02-08T13:35:59+00:00\", \"weekday\": \"Tuesday\", \"date\": \"02/08/2022\"}, {\"created_at\": \"2022-02-08T13:35:48+00:00\", \"weekday\": \"Tuesday\", \"date\": \"02/08/2022\"}, {\"created_at\": \"2022-02-08T13:35:18+00:00\", \"weekday\": \"Tuesday\", \"date\": \"02/08/2022\"}, {\"created_at\": \"2022-02-08T13:35:18+00:00\", \"weekday\": \"Tuesday\", \"date\": \"02/08/2022\"}, {\"created_at\": \"2022-02-08T13:35:18+00:00\", \"weekday\": \"Tuesday\", \"date\": \"02/08/2022\"}, {\"created_at\": \"2022-02-08T13:35:17+00:00\", \"weekday\": \"Tuesday\", \"date\": \"02/08/2022\"}, {\"created_at\": \"2022-02-05T03:26:14+00:00\", \"weekday\": \"Saturday\", \"date\": \"02/05/2022\"}, {\"created_at\": \"2022-02-04T16:33:32+00:00\", \"weekday\": \"Friday\", \"date\": \"02/04/2022\"}, {\"created_at\": \"2022-02-04T03:35:30+00:00\", \"weekday\": \"Friday\", \"date\": \"02/04/2022\"}, {\"created_at\": \"2022-02-04T02:30:58+00:00\", \"weekday\": \"Friday\", \"date\": \"02/04/2022\"}, {\"created_at\": \"2022-02-04T02:30:35+00:00\", \"weekday\": \"Friday\", \"date\": \"02/04/2022\"}, {\"created_at\": \"2022-02-04T02:30:28+00:00\", \"weekday\": \"Friday\", \"date\": \"02/04/2022\"}, {\"created_at\": \"2022-02-04T02:29:48+00:00\", \"weekday\": \"Friday\", \"date\": \"02/04/2022\"}, {\"created_at\": \"2022-02-04T02:29:25+00:00\", \"weekday\": \"Friday\", \"date\": \"02/04/2022\"}, {\"created_at\": \"2022-02-02T05:11:23+00:00\", \"weekday\": \"Wednesday\", \"date\": \"02/02/2022\"}, {\"created_at\": \"2022-01-23T19:00:03+00:00\", \"weekday\": \"Sunday\", \"date\": \"01/23/2022\"}, {\"created_at\": \"2022-01-21T00:41:39+00:00\", \"weekday\": \"Friday\", \"date\": \"01/21/2022\"}, {\"created_at\": \"2022-01-19T00:06:26+00:00\", \"weekday\": \"Wednesday\", \"date\": \"01/19/2022\"}, {\"created_at\": \"2022-01-18T23:31:49+00:00\", \"weekday\": \"Tuesday\", \"date\": \"01/18/2022\"}, {\"created_at\": \"2022-01-18T17:52:59+00:00\", \"weekday\": \"Tuesday\", \"date\": \"01/18/2022\"}, {\"created_at\": \"2022-01-17T18:26:39+00:00\", \"weekday\": \"Monday\", \"date\": \"01/17/2022\"}, {\"created_at\": \"2022-01-10T20:57:36+00:00\", \"weekday\": \"Monday\", \"date\": \"01/10/2022\"}, {\"created_at\": \"2022-01-07T20:17:53+00:00\", \"weekday\": \"Friday\", \"date\": \"01/07/2022\"}, {\"created_at\": \"2022-01-07T17:06:40+00:00\", \"weekday\": \"Friday\", \"date\": \"01/07/2022\"}, {\"created_at\": \"2022-01-06T00:03:38+00:00\", \"weekday\": \"Thursday\", \"date\": \"01/06/2022\"}, {\"created_at\": \"2022-01-01T01:58:01+00:00\", \"weekday\": \"Saturday\", \"date\": \"01/01/2022\"}, {\"created_at\": \"2021-12-26T18:36:12+00:00\", \"weekday\": \"Sunday\", \"date\": \"12/26/2021\"}, {\"created_at\": \"2021-12-16T14:20:06+00:00\", \"weekday\": \"Thursday\", \"date\": \"12/16/2021\"}, {\"created_at\": \"2021-12-03T20:08:11+00:00\", \"weekday\": \"Friday\", \"date\": \"12/03/2021\"}, {\"created_at\": \"2021-12-02T03:03:55+00:00\", \"weekday\": \"Thursday\", \"date\": \"12/02/2021\"}, {\"created_at\": \"2021-11-19T15:22:53+00:00\", \"weekday\": \"Friday\", \"date\": \"11/19/2021\"}, {\"created_at\": \"2021-11-19T15:22:52+00:00\", \"weekday\": \"Friday\", \"date\": \"11/19/2021\"}, {\"created_at\": \"2021-11-19T01:49:41+00:00\", \"weekday\": \"Friday\", \"date\": \"11/19/2021\"}, {\"created_at\": \"2021-11-19T01:46:50+00:00\", \"weekday\": \"Friday\", \"date\": \"11/19/2021\"}, {\"created_at\": \"2021-11-19T01:46:24+00:00\", \"weekday\": \"Friday\", \"date\": \"11/19/2021\"}, {\"created_at\": \"2021-11-18T21:58:30+00:00\", \"weekday\": \"Thursday\", \"date\": \"11/18/2021\"}, {\"created_at\": \"2021-11-18T21:58:29+00:00\", \"weekday\": \"Thursday\", \"date\": \"11/18/2021\"}, {\"created_at\": \"2021-11-17T02:02:37+00:00\", \"weekday\": \"Wednesday\", \"date\": \"11/17/2021\"}, {\"created_at\": \"2021-11-16T18:19:22+00:00\", \"weekday\": \"Tuesday\", \"date\": \"11/16/2021\"}, {\"created_at\": \"2021-11-15T16:26:15+00:00\", \"weekday\": \"Monday\", \"date\": \"11/15/2021\"}, {\"created_at\": \"2021-11-15T05:22:28+00:00\", \"weekday\": \"Monday\", \"date\": \"11/15/2021\"}, {\"created_at\": \"2021-11-15T04:58:54+00:00\", \"weekday\": \"Monday\", \"date\": \"11/15/2021\"}, {\"created_at\": \"2021-11-15T04:19:40+00:00\", \"weekday\": \"Monday\", \"date\": \"11/15/2021\"}, {\"created_at\": \"2021-11-15T03:42:07+00:00\", \"weekday\": \"Monday\", \"date\": \"11/15/2021\"}, {\"created_at\": \"2021-11-15T02:45:11+00:00\", \"weekday\": \"Monday\", \"date\": \"11/15/2021\"}, {\"created_at\": \"2021-11-14T16:45:38+00:00\", \"weekday\": \"Sunday\", \"date\": \"11/14/2021\"}, {\"created_at\": \"2021-11-14T16:45:38+00:00\", \"weekday\": \"Sunday\", \"date\": \"11/14/2021\"}, {\"created_at\": \"2021-11-14T16:45:37+00:00\", \"weekday\": \"Sunday\", \"date\": \"11/14/2021\"}, {\"created_at\": \"2021-11-13T15:14:19+00:00\", \"weekday\": \"Saturday\", \"date\": \"11/13/2021\"}, {\"created_at\": \"2021-11-12T18:46:33+00:00\", \"weekday\": \"Friday\", \"date\": \"11/12/2021\"}, {\"created_at\": \"2021-11-12T15:10:42+00:00\", \"weekday\": \"Friday\", \"date\": \"11/12/2021\"}, {\"created_at\": \"2021-11-12T15:10:40+00:00\", \"weekday\": \"Friday\", \"date\": \"11/12/2021\"}, {\"created_at\": \"2021-11-12T05:00:41+00:00\", \"weekday\": \"Friday\", \"date\": \"11/12/2021\"}, {\"created_at\": \"2021-11-10T21:36:15+00:00\", \"weekday\": \"Wednesday\", \"date\": \"11/10/2021\"}, {\"created_at\": \"2021-11-10T15:13:43+00:00\", \"weekday\": \"Wednesday\", \"date\": \"11/10/2021\"}, {\"created_at\": \"2021-11-10T14:13:34+00:00\", \"weekday\": \"Wednesday\", \"date\": \"11/10/2021\"}, {\"created_at\": \"2021-11-10T03:04:52+00:00\", \"weekday\": \"Wednesday\", \"date\": \"11/10/2021\"}, {\"created_at\": \"2021-11-05T18:54:37+00:00\", \"weekday\": \"Friday\", \"date\": \"11/05/2021\"}, {\"created_at\": \"2021-11-05T18:54:04+00:00\", \"weekday\": \"Friday\", \"date\": \"11/05/2021\"}, {\"created_at\": \"2021-11-05T18:53:06+00:00\", \"weekday\": \"Friday\", \"date\": \"11/05/2021\"}, {\"created_at\": \"2021-11-01T12:43:57+00:00\", \"weekday\": \"Monday\", \"date\": \"11/01/2021\"}, {\"created_at\": \"2021-11-01T12:43:57+00:00\", \"weekday\": \"Monday\", \"date\": \"11/01/2021\"}, {\"created_at\": \"2021-11-01T12:43:56+00:00\", \"weekday\": \"Monday\", \"date\": \"11/01/2021\"}, {\"created_at\": \"2021-11-01T12:38:47+00:00\", \"weekday\": \"Monday\", \"date\": \"11/01/2021\"}, {\"created_at\": \"2021-10-31T02:49:11+00:00\", \"weekday\": \"Sunday\", \"date\": \"10/31/2021\"}, {\"created_at\": \"2021-10-27T00:53:28+00:00\", \"weekday\": \"Wednesday\", \"date\": \"10/27/2021\"}, {\"created_at\": \"2021-10-24T18:40:27+00:00\", \"weekday\": \"Sunday\", \"date\": \"10/24/2021\"}, {\"created_at\": \"2021-10-24T18:40:27+00:00\", \"weekday\": \"Sunday\", \"date\": \"10/24/2021\"}, {\"created_at\": \"2021-10-20T16:30:41+00:00\", \"weekday\": \"Wednesday\", \"date\": \"10/20/2021\"}, {\"created_at\": \"2021-10-13T17:38:53+00:00\", \"weekday\": \"Wednesday\", \"date\": \"10/13/2021\"}, {\"created_at\": \"2021-10-04T17:29:24+00:00\", \"weekday\": \"Monday\", \"date\": \"10/04/2021\"}, {\"created_at\": \"2021-09-29T21:18:05+00:00\", \"weekday\": \"Wednesday\", \"date\": \"09/29/2021\"}, {\"created_at\": \"2021-09-28T13:38:23+00:00\", \"weekday\": \"Tuesday\", \"date\": \"09/28/2021\"}, {\"created_at\": \"2021-09-28T13:08:25+00:00\", \"weekday\": \"Tuesday\", \"date\": \"09/28/2021\"}, {\"created_at\": \"2021-09-28T12:56:44+00:00\", \"weekday\": \"Tuesday\", \"date\": \"09/28/2021\"}, {\"created_at\": \"2021-09-28T12:42:51+00:00\", \"weekday\": \"Tuesday\", \"date\": \"09/28/2021\"}, {\"created_at\": \"2021-09-28T12:42:42+00:00\", \"weekday\": \"Tuesday\", \"date\": \"09/28/2021\"}, {\"created_at\": \"2021-09-28T12:42:42+00:00\", \"weekday\": \"Tuesday\", \"date\": \"09/28/2021\"}, {\"created_at\": \"2021-09-28T12:42:41+00:00\", \"weekday\": \"Tuesday\", \"date\": \"09/28/2021\"}, {\"created_at\": \"2021-09-27T18:56:39+00:00\", \"weekday\": \"Monday\", \"date\": \"09/27/2021\"}, {\"created_at\": \"2021-09-27T02:00:11+00:00\", \"weekday\": \"Monday\", \"date\": \"09/27/2021\"}, {\"created_at\": \"2021-09-25T16:23:09+00:00\", \"weekday\": \"Saturday\", \"date\": \"09/25/2021\"}, {\"created_at\": \"2021-09-25T16:23:09+00:00\", \"weekday\": \"Saturday\", \"date\": \"09/25/2021\"}, {\"created_at\": \"2021-09-25T16:23:07+00:00\", \"weekday\": \"Saturday\", \"date\": \"09/25/2021\"}, {\"created_at\": \"2021-09-24T20:04:11+00:00\", \"weekday\": \"Friday\", \"date\": \"09/24/2021\"}, {\"created_at\": \"2021-09-24T20:04:11+00:00\", \"weekday\": \"Friday\", \"date\": \"09/24/2021\"}, {\"created_at\": \"2021-09-23T14:43:20+00:00\", \"weekday\": \"Thursday\", \"date\": \"09/23/2021\"}, {\"created_at\": \"2021-09-21T00:09:50+00:00\", \"weekday\": \"Tuesday\", \"date\": \"09/21/2021\"}, {\"created_at\": \"2021-09-18T15:20:22+00:00\", \"weekday\": \"Saturday\", \"date\": \"09/18/2021\"}]}}, {\"mode\": \"vega-lite\"});\n",
       "</script>"
      ],
      "text/plain": [
       "alt.HConcatChart(...)"
      ]
     },
     "metadata": {},
     "output_type": "display_data"
    }
   ],
   "source": [
    "# to see the date vis of Oprah's latest 100 tweets \n",
    "plot_tweet_creation_date_count(tweets_df[:100])"
   ]
  },
  {
   "cell_type": "markdown",
   "metadata": {},
   "source": [
    "## Bar chart of where followers are"
   ]
  },
  {
   "cell_type": "code",
   "execution_count": 8,
   "metadata": {},
   "outputs": [],
   "source": [
    "def get_followers(user_handle, num_tweets):\n",
    "    \n",
    "    def limit_handled(cursor):\n",
    "        \"\"\"\n",
    "        Handle twitter rate limits.\n",
    "        If the rate limit is reached, print the error message and exit the procedure.\n",
    "        Print a short summary of the total number of tweets retrieved and time spent.\n",
    "        \"\"\"\n",
    "        n=0\n",
    "        while True:\n",
    "            print(\".\", end=\"\")\n",
    "            try:\n",
    "                yield cursor.next()\n",
    "                n += 1\n",
    "            except Exception as e:\n",
    "                if tweepy.TooManyRequests:  #if TRUE this means we hit a rate limit error\n",
    "                    print(f\"Reached rate limits after {n} iterations.\")   \n",
    "                    print(f'Error message: {e}')\n",
    "                break\n",
    "        return None\n",
    "            \n",
    "    followers = []\n",
    "    for follower in limit_handled(tweepy.Cursor(api.get_followers, screen_name = user_handle).items(num_tweets)):\n",
    "        followers.append(follower)\n",
    "    \n",
    "    return followers\n",
    "            \n",
    "            \n",
    "def plot_followers_locations(followers):\n",
    "    \"\"\"\n",
    "    A visualization for the locations of followers of the user handle.\n",
    "    Note: Filtered out followers who haven't specified a location.\n",
    "    \"\"\"\n",
    "    chart = alt.Chart(pd.DataFrame([])).mark_rect()\n",
    "\n",
    "    # get all locations from follower user object\n",
    "    locations = []\n",
    "    for follower in followers:\n",
    "        location = follower._json['location']\n",
    "        locations.append(location)\n",
    "    \n",
    "    # make a dataframe\n",
    "    followers_df = pd.DataFrame(locations, columns = ['location'])\n",
    "    followers_df['location'] = followers_df.location.replace('', np.nan)\n",
    "    followers_df.dropna(inplace = True)\n",
    "    \n",
    "    # make chart\n",
    "    chart = alt.Chart(followers_df).mark_bar().encode(\n",
    "            x = 'location:O',\n",
    "            y = 'count():Q'\n",
    "        ).properties(width = 700, height = 200)\n",
    "\n",
    "    display(chart)\n",
    "    return followers_df\n"
   ]
  },
  {
   "cell_type": "code",
   "execution_count": 12,
   "metadata": {},
   "outputs": [
    {
     "name": "stdout",
     "output_type": "stream",
     "text": [
      ".............................................................................................................................................................................................................................................................................................................Reached rate limits after 300 iterations.\n",
      "Error message: \n"
     ]
    },
    {
     "data": {
      "text/html": [
       "\n",
       "<div id=\"altair-viz-d4e785dfbff04f6b90c591207391601f\"></div>\n",
       "<script type=\"text/javascript\">\n",
       "  (function(spec, embedOpt){\n",
       "    let outputDiv = document.currentScript.previousElementSibling;\n",
       "    if (outputDiv.id !== \"altair-viz-d4e785dfbff04f6b90c591207391601f\") {\n",
       "      outputDiv = document.getElementById(\"altair-viz-d4e785dfbff04f6b90c591207391601f\");\n",
       "    }\n",
       "    const paths = {\n",
       "      \"vega\": \"https://cdn.jsdelivr.net/npm//vega@5?noext\",\n",
       "      \"vega-lib\": \"https://cdn.jsdelivr.net/npm//vega-lib?noext\",\n",
       "      \"vega-lite\": \"https://cdn.jsdelivr.net/npm//vega-lite@4.8.1?noext\",\n",
       "      \"vega-embed\": \"https://cdn.jsdelivr.net/npm//vega-embed@6?noext\",\n",
       "    };\n",
       "\n",
       "    function loadScript(lib) {\n",
       "      return new Promise(function(resolve, reject) {\n",
       "        var s = document.createElement('script');\n",
       "        s.src = paths[lib];\n",
       "        s.async = true;\n",
       "        s.onload = () => resolve(paths[lib]);\n",
       "        s.onerror = () => reject(`Error loading script: ${paths[lib]}`);\n",
       "        document.getElementsByTagName(\"head\")[0].appendChild(s);\n",
       "      });\n",
       "    }\n",
       "\n",
       "    function showError(err) {\n",
       "      outputDiv.innerHTML = `<div class=\"error\" style=\"color:red;\">${err}</div>`;\n",
       "      throw err;\n",
       "    }\n",
       "\n",
       "    function displayChart(vegaEmbed) {\n",
       "      vegaEmbed(outputDiv, spec, embedOpt)\n",
       "        .catch(err => showError(`Javascript Error: ${err.message}<br>This usually means there's a typo in your chart specification. See the javascript console for the full traceback.`));\n",
       "    }\n",
       "\n",
       "    if(typeof define === \"function\" && define.amd) {\n",
       "      requirejs.config({paths});\n",
       "      require([\"vega-embed\"], displayChart, err => showError(`Error loading script: ${err.message}`));\n",
       "    } else if (typeof vegaEmbed === \"function\") {\n",
       "      displayChart(vegaEmbed);\n",
       "    } else {\n",
       "      loadScript(\"vega\")\n",
       "        .then(() => loadScript(\"vega-lite\"))\n",
       "        .then(() => loadScript(\"vega-embed\"))\n",
       "        .catch(showError)\n",
       "        .then(() => displayChart(vegaEmbed));\n",
       "    }\n",
       "  })({\"config\": {\"view\": {\"continuousWidth\": 400, \"continuousHeight\": 300}}, \"data\": {\"name\": \"data-132564d175dc2919c53f08a3502778d1\"}, \"mark\": \"bar\", \"encoding\": {\"x\": {\"type\": \"ordinal\", \"field\": \"location\"}, \"y\": {\"type\": \"quantitative\", \"aggregate\": \"count\"}}, \"height\": 200, \"width\": 700, \"$schema\": \"https://vega.github.io/schema/vega-lite/v4.8.1.json\", \"datasets\": {\"data-132564d175dc2919c53f08a3502778d1\": [{\"location\": \"Brasil\"}, {\"location\": \"Le\\u00f3n, Mx\"}, {\"location\": \"Kuwait\"}, {\"location\": \"Nairobi, Kenya\"}, {\"location\": \"United States\"}, {\"location\": \"Somalia\"}, {\"location\": \"Ohio, USA\"}, {\"location\": \"Riau, Indonesia\"}, {\"location\": \"Lahore, Pakistan\"}, {\"location\": \"Ohio, USA\"}, {\"location\": \"Lusaka, Zambia\"}, {\"location\": \"Kakamega, Kenya\"}, {\"location\": \"Gotham City\"}, {\"location\": \"London | Milan \"}, {\"location\": \"Strasbourg, France\"}, {\"location\": \"Minneapolis, MN\"}, {\"location\": \"Bariloche\"}, {\"location\": \"Jalandhar, India\"}, {\"location\": \"Northport, NY\"}, {\"location\": \"Michigan/Florida\"}, {\"location\": \"On that road to zion.    \"}, {\"location\": \"Salvador/BA\"}, {\"location\": \"Ghana\"}, {\"location\": \"Nigeria\"}, {\"location\": \"Centre, Cameroon\"}, {\"location\": \"Dunellen, NJ\"}, {\"location\": \"Massachusetts, USA\"}, {\"location\": \"\\u0627\\u0644\\u0628\\u062d\\u064a\\u0631\\u0629, \\u0645\\u0635\\u0631\"}, {\"location\": \"Everywhere. All at once.\"}, {\"location\": \"United Kingdom\"}, {\"location\": \"T\\u00fcrkiye\"}, {\"location\": \"manila (\\u25cd\\u2022\\u1d17\\u2022\\u25cd) philippines\"}, {\"location\": \"Fremont, CA\"}, {\"location\": \"Massachusetts, USA\"}, {\"location\": \"Hell\"}, {\"location\": \"S\\u00e3o Carlos, Brasil\"}, {\"location\": \"Newcastle, South Africa\"}, {\"location\": \"Dayton, OH\"}, {\"location\": \"Allentown, PA\"}, {\"location\": \"Collinsville, IL\"}, {\"location\": \"worldwide\"}, {\"location\": \"chittorgarh\"}, {\"location\": \"United States\"}, {\"location\": \"Atlanta, GA\"}, {\"location\": \"National City, CA\"}, {\"location\": \"dakar\"}, {\"location\": \"Wharton, NJ\"}, {\"location\": \"Accra Ghana\"}, {\"location\": \"Lagos, Nigeria\"}, {\"location\": \"Harare, Zimbabwe\"}, {\"location\": \"Augusta, GA\"}, {\"location\": \"Coventry,United Kingdom \\ud83c\\uddec\\ud83c\\udde7\"}, {\"location\": \"Bogot\\u00e1 \"}, {\"location\": \"desklias \"}, {\"location\": \"B\\u00e9thanie, Qu\\u00e9bec Namibia\\ud83c\\uddf3\\ud83c\\udde6\"}, {\"location\": \"USA\"}, {\"location\": \"Algeria\"}]}}, {\"mode\": \"vega-lite\"});\n",
       "</script>"
      ],
      "text/plain": [
       "alt.Chart(...)"
      ]
     },
     "metadata": {},
     "output_type": "display_data"
    }
   ],
   "source": [
    "followers = get_followers('Oprah', 300)\n",
    "df = plot_followers_locations(followers)"
   ]
  },
  {
   "cell_type": "code",
   "execution_count": null,
   "metadata": {},
   "outputs": [],
   "source": []
  }
 ],
 "metadata": {
  "kernelspec": {
   "display_name": "Python 3",
   "language": "python",
   "name": "python3"
  },
  "language_info": {
   "codemirror_mode": {
    "name": "ipython",
    "version": 3
   },
   "file_extension": ".py",
   "mimetype": "text/x-python",
   "name": "python",
   "nbconvert_exporter": "python",
   "pygments_lexer": "ipython3",
   "version": "3.8.3"
  }
 },
 "nbformat": 4,
 "nbformat_minor": 4
}
